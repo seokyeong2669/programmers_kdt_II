{
 "cells": [
  {
   "cell_type": "code",
<<<<<<< HEAD
   "execution_count": 1,
=======
   "execution_count": null,
>>>>>>> upstream/main
   "metadata": {},
   "outputs": [],
   "source": [
    "%matplotlib inline\n",
    "import matplotlib.pyplot as plt\n",
    "import seaborn as sns; sns.set()\n",
    "import numpy as np\n",
    "\n",
    "from sklearn.linear_model import LinearRegression\n",
    "model = LinearRegression(fit_intercept=True)"
   ]
  },
  {
   "cell_type": "code",
<<<<<<< HEAD
   "execution_count": 18,
   "metadata": {},
   "outputs": [
    {
     "data": {
      "text/plain": [
       "(1000,)"
      ]
     },
     "execution_count": 18,
     "metadata": {},
     "output_type": "execute_result"
    }
   ],
=======
   "execution_count": null,
   "metadata": {},
   "outputs": [],
>>>>>>> upstream/main
   "source": [
    "N = 1000\n",
    "M = 3\n",
    "rng = np.random.RandomState(1)\n",
    "rng.rand(N, M).shape\n",
<<<<<<< HEAD
    "# rng.rand(N, M)*10\n",
    "X = 10 * rng.rand(N, M)\n",
    "np.dot(X, [1.5, -2., 1.]).shape ## W는 벡터"
=======
    "X = 10 * rng.rand(N, M)\n",
    "np.dot(X, [1.5, -2., 1.]).shape"
>>>>>>> upstream/main
   ]
  },
  {
   "cell_type": "code",
<<<<<<< HEAD
   "execution_count": 19,
   "metadata": {},
   "outputs": [
    {
     "name": "stdout",
     "output_type": "stream",
     "text": [
      "0.49999999999996536\n",
      "[ 1.5 -2.   1. ]\n"
     ]
    }
   ],
=======
   "execution_count": null,
   "metadata": {},
   "outputs": [],
>>>>>>> upstream/main
   "source": [
    "rng = np.random.RandomState(1)\n",
    "X = 10 * rng.rand(N, M)\n",
    "y = 0.5 + np.dot(X, [1.5, -2., 1.])\n",
    "\n",
    "model.fit(X, y)\n",
    "print(model.intercept_)\n",
    "print(model.coef_)"
   ]
  },
  {
   "cell_type": "markdown",
   "metadata": {},
   "source": [
    "### Normal Equations"
   ]
  },
  {
   "cell_type": "code",
<<<<<<< HEAD
   "execution_count": 20,
=======
   "execution_count": null,
>>>>>>> upstream/main
   "metadata": {},
   "outputs": [],
   "source": [
    "import numpy.linalg as LA\n",
    "normal_equation_solution = LA.inv(X.T@X)@X.T@y"
   ]
  },
  {
   "cell_type": "code",
<<<<<<< HEAD
   "execution_count": 21,
   "metadata": {
    "scrolled": true
   },
   "outputs": [
    {
     "data": {
      "text/plain": [
       "array([ 1.52825484, -1.96886193,  1.03058857])"
      ]
     },
     "execution_count": 21,
     "metadata": {},
     "output_type": "execute_result"
    }
   ],
=======
   "execution_count": null,
   "metadata": {
    "scrolled": true
   },
   "outputs": [],
>>>>>>> upstream/main
   "source": [
    "normal_equation_solution"
   ]
  },
  {
   "cell_type": "markdown",
   "metadata": {},
   "source": [
    "### Small Memory Normal Equations (Online)"
   ]
  },
  {
   "cell_type": "code",
<<<<<<< HEAD
   "execution_count": 22,
=======
   "execution_count": null,
>>>>>>> upstream/main
   "metadata": {},
   "outputs": [],
   "source": [
    "A = np.zeros([M, M])\n",
    "b = np.zeros([M, 1])"
   ]
  },
  {
   "cell_type": "code",
<<<<<<< HEAD
   "execution_count": 23,
=======
   "execution_count": null,
>>>>>>> upstream/main
   "metadata": {},
   "outputs": [],
   "source": [
    "for i in range(N):\n",
    "    A = A + X[i, np.newaxis].T@X[i, np.newaxis]\n",
    "    b = b + X[i, np.newaxis].T*y[i]\n",
    "solution = LA.inv(A)@b"
   ]
  },
  {
   "cell_type": "code",
<<<<<<< HEAD
   "execution_count": 24,
   "metadata": {},
   "outputs": [
    {
     "data": {
      "text/plain": [
       "array([[ 1.52825484],\n",
       "       [-1.96886193],\n",
       "       [ 1.03058857]])"
      ]
     },
     "execution_count": 24,
     "metadata": {},
     "output_type": "execute_result"
    }
   ],
=======
   "execution_count": null,
   "metadata": {},
   "outputs": [],
>>>>>>> upstream/main
   "source": [
    "solution"
   ]
  },
  {
   "cell_type": "markdown",
   "metadata": {},
   "source": [
    "### SGD"
   ]
  },
  {
   "cell_type": "code",
<<<<<<< HEAD
   "execution_count": 25,
=======
   "execution_count": null,
>>>>>>> upstream/main
   "metadata": {},
   "outputs": [],
   "source": [
    "w = np.zeros([M, 1])"
   ]
  },
  {
   "cell_type": "code",
<<<<<<< HEAD
   "execution_count": 30,
=======
   "execution_count": null,
>>>>>>> upstream/main
   "metadata": {},
   "outputs": [],
   "source": [
    "eta = 0.001\n",
    "n_iter = 1000"
   ]
  },
  {
   "cell_type": "code",
<<<<<<< HEAD
   "execution_count": 31,
   "metadata": {},
   "outputs": [
    {
     "name": "stdout",
     "output_type": "stream",
     "text": [
      "[[ 1.52751465]\n",
      " [-1.97222351]\n",
      " [ 1.03379651]]\n"
     ]
    }
   ],
=======
   "execution_count": null,
   "metadata": {},
   "outputs": [],
>>>>>>> upstream/main
   "source": [
    "for i in range(n_iter):\n",
    "    i = i % N\n",
    "    neg_gradient = (y[i] - w.T@X[i, np.newaxis].T) * X[i, np.newaxis].T\n",
    "    w = w + eta * neg_gradient\n",
    "print(w)"
   ]
  },
  {
   "cell_type": "code",
   "execution_count": null,
   "metadata": {},
   "outputs": [],
   "source": []
  }
 ],
 "metadata": {
  "kernelspec": {
   "display_name": "Python 3",
   "language": "python",
   "name": "python3"
  },
  "language_info": {
   "codemirror_mode": {
    "name": "ipython",
    "version": 3
   },
   "file_extension": ".py",
   "mimetype": "text/x-python",
   "name": "python",
   "nbconvert_exporter": "python",
   "pygments_lexer": "ipython3",
<<<<<<< HEAD
   "version": "3.8.5"
=======
   "version": "3.7.8"
>>>>>>> upstream/main
  }
 },
 "nbformat": 4,
 "nbformat_minor": 4
}
