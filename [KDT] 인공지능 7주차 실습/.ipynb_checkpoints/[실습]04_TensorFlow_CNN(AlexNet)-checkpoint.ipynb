{
 "cells": [
  {
   "cell_type": "code",
   "execution_count": 1,
   "metadata": {
    "id": "TgQpetUTM7Ik"
   },
   "outputs": [
    {
     "ename": "ModuleNotFoundError",
     "evalue": "No module named 'tensorflow'",
     "output_type": "error",
     "traceback": [
      "\u001b[0;31m---------------------------------------------------------------------------\u001b[0m",
      "\u001b[0;31mModuleNotFoundError\u001b[0m                       Traceback (most recent call last)",
      "\u001b[0;32m<ipython-input-1-af4e17f156fa>\u001b[0m in \u001b[0;36m<module>\u001b[0;34m\u001b[0m\n\u001b[0;32m----> 1\u001b[0;31m \u001b[0;32mimport\u001b[0m \u001b[0mtensorflow\u001b[0m \u001b[0;32mas\u001b[0m \u001b[0mtf\u001b[0m\u001b[0;34m\u001b[0m\u001b[0;34m\u001b[0m\u001b[0m\n\u001b[0m\u001b[1;32m      2\u001b[0m \u001b[0;34m\u001b[0m\u001b[0m\n\u001b[1;32m      3\u001b[0m def AlexNet(\n\u001b[1;32m      4\u001b[0m   \u001b[0minput_shape\u001b[0m\u001b[0;34m=\u001b[0m\u001b[0;32mNone\u001b[0m\u001b[0;34m,\u001b[0m\u001b[0;34m\u001b[0m\u001b[0;34m\u001b[0m\u001b[0m\n\u001b[1;32m      5\u001b[0m   \u001b[0mweights\u001b[0m\u001b[0;34m=\u001b[0m\u001b[0;32mNone\u001b[0m\u001b[0;34m,\u001b[0m\u001b[0;34m\u001b[0m\u001b[0;34m\u001b[0m\u001b[0m\n",
      "\u001b[0;31mModuleNotFoundError\u001b[0m: No module named 'tensorflow'"
     ]
    }
   ],
   "source": [
    "import tensorflow as tf\n",
    "\n",
    "def AlexNet(\n",
    "  input_shape=None,\n",
    "  weights=None,\n",
    "  classes=1000,\n",
    "  classifier_activation='softmax'):\n",
    "  \n",
    "  model = tf.keras.Sequential([\n",
    "      #특징 추출 부분 \n",
    "      #Conv 1\n",
    "      tf.keras.layers.Conv2D(filters=96,\n",
    "                              kernel_size=(11, 11),\n",
    "                              strides=4,\n",
    "                              padding=\"valid\",\n",
    "                              activation=tf.keras.activations.relu,\n",
    "                              input_shape=input_shape),\n",
    "      #Max Pool 1\n",
    "      tf.keras.layers.MaxPool2D(pool_size=(3, 3),\n",
    "                                strides=2,\n",
    "                                padding=\"valid\"),\n",
    "      tf.keras.layers.BatchNormalization(),\n",
    "      #Conv 2\n",
    "      tf.keras.layers.Conv2D(filters=256,\n",
    "                              kernel_size=(5, 5),\n",
    "                              strides=1,\n",
    "                              padding=\"same\",\n",
    "                              activation=tf.keras.activations.relu),\n",
    "      #Max Pool 2\n",
    "      tf.keras.layers.MaxPool2D(pool_size=(3, 3),\n",
    "                                strides=2,\n",
    "                                padding=\"same\"),\n",
    "      tf.keras.layers.BatchNormalization(),\n",
    "      #Conv 3\n",
    "      tf.keras.layers.Conv2D(filters=384,\n",
    "                              kernel_size=(3, 3),\n",
    "                              strides=1,\n",
    "                              padding=\"same\",\n",
    "                              activation=tf.keras.activations.relu),\n",
    "      #Conv 4\n",
    "      tf.keras.layers.Conv2D(filters=384,\n",
    "                              kernel_size=(3, 3),\n",
    "                              strides=1,\n",
    "                              padding=\"same\",\n",
    "                              activation=tf.keras.activations.relu),\n",
    "      #Conv 5\n",
    "      tf.keras.layers.Conv2D(filters=256,\n",
    "                              kernel_size=(3, 3),\n",
    "                              strides=1,\n",
    "                              padding=\"same\",\n",
    "                              activation=tf.keras.activations.relu),\n",
    "      #Max Pool 3\n",
    "      tf.keras.layers.MaxPool2D(pool_size=(3, 3),\n",
    "                                strides=2,\n",
    "                                padding=\"same\"),\n",
    "      tf.keras.layers.BatchNormalization(),\n",
    "      \n",
    "      tf.keras.layers.Flatten(),\n",
    "      \n",
    "      #분류 층 부분\n",
    "      #Fully connected layer 1 \n",
    "      tf.keras.layers.Dense(units=4096,\n",
    "                            activation=tf.keras.activations.relu),\n",
    "      tf.keras.layers.Dropout(rate=0.2),\n",
    "      #Fully connected layer 2\n",
    "      tf.keras.layers.Dense(units=4096,\n",
    "                            activation=tf.keras.activations.relu),\n",
    "      tf.keras.layers.Dropout(rate=0.2),\n",
    "      \n",
    "      #Fully connected layer 3\n",
    "      tf.keras.layers.Dense(units=classes,\n",
    "                            activation=tf.keras.activations.softmax)\n",
    "  ])\n",
    "\n",
    "  return model\n",
    "\n",
    "\n"
   ]
  },
  {
   "cell_type": "code",
   "execution_count": null,
   "metadata": {},
   "outputs": [],
   "source": []
  }
 ],
 "metadata": {
  "colab": {
   "authorship_tag": "ABX9TyOJ1DFP7OOJAUkYAMiWCiAM",
   "collapsed_sections": [],
   "name": "AlexNet(Tensorflow).ipynb",
   "provenance": []
  },
  "kernelspec": {
   "display_name": "Python 3",
   "language": "python",
   "name": "python3"
  },
  "language_info": {
   "codemirror_mode": {
    "name": "ipython",
    "version": 3
   },
   "file_extension": ".py",
   "mimetype": "text/x-python",
   "name": "python",
   "nbconvert_exporter": "python",
   "pygments_lexer": "ipython3",
   "version": "3.8.5"
  }
 },
 "nbformat": 4,
 "nbformat_minor": 1
}
